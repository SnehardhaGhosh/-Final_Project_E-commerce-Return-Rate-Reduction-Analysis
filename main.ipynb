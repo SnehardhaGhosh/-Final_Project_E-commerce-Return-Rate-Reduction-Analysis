{
 "cells": [
  {
   "cell_type": "code",
   "execution_count": 1,
   "id": "6274b58a-19cf-421f-9023-7fbf9c847577",
   "metadata": {},
   "outputs": [
    {
     "name": "stdout",
     "output_type": "stream",
     "text": [
      "      category  total_orders  total_returns  return_rate\n",
      "0     Clothing            10           10.0        100.0\n",
      "1       Beauty            10           10.0        100.0\n",
      "2       Sports            10           10.0        100.0\n",
      "3  Electronics            10            0.0          0.0\n",
      "4    Furniture            10            0.0          0.0\n",
      "     supplier  total_orders  total_returns  return_rate\n",
      "0  Supplier_B            10            6.0         60.0\n",
      "1  Supplier_C            10            6.0         60.0\n",
      "2  Supplier_D            10            6.0         60.0\n",
      "3  Supplier_A            10            6.0         60.0\n",
      "4  Supplier_E            10            6.0         60.0\n"
     ]
    }
   ],
   "source": [
    "import duckdb\n",
    "import pandas as pd\n",
    "\n",
    "orders = pd.read_csv(\"orders.csv\")\n",
    "returns = pd.read_csv(\"returns.csv\")\n",
    "\n",
    "df = orders.merge(returns[[\"order_id\",\"returned\"]], on=\"order_id\", how=\"left\")\n",
    "df[\"is_returned\"] = df[\"returned\"].apply(lambda x: 1 if x==\"Yes\" else 0)\n",
    "\n",
    "# Run your SQL queries directly\n",
    "category_stats = duckdb.query(\"\"\"\n",
    "    SELECT category,\n",
    "           COUNT(*) AS total_orders,\n",
    "           SUM(is_returned) AS total_returns,\n",
    "           ROUND(100.0*SUM(is_returned)/COUNT(*),2) AS return_rate\n",
    "    FROM df\n",
    "    GROUP BY category\n",
    "    ORDER BY return_rate DESC\n",
    "\"\"\").to_df()\n",
    "\n",
    "supplier_stats = duckdb.query(\"\"\"\n",
    "    SELECT supplier,\n",
    "           COUNT(*) AS total_orders,\n",
    "           SUM(is_returned) AS total_returns,\n",
    "           ROUND(100.0*SUM(is_returned)/COUNT(*),2) AS return_rate\n",
    "    FROM df\n",
    "    GROUP BY supplier\n",
    "\"\"\").to_df()\n",
    "\n",
    "print(category_stats)\n",
    "print(supplier_stats)\n",
    "\n"
   ]
  },
  {
   "cell_type": "code",
   "execution_count": 3,
   "id": "6533745d-e09a-4ad8-8e21-77e2ab0d2a18",
   "metadata": {},
   "outputs": [
    {
     "name": "stdout",
     "output_type": "stream",
     "text": [
      "  region  total_orders  total_returns  return_rate\n",
      "0  South            13            8.0        61.54\n",
      "1  North            13            8.0        61.54\n",
      "2   West            12            7.0        58.33\n",
      "3   East            12            7.0        58.33\n",
      "  channel  total_orders  total_returns  return_rate\n",
      "0  Retail            23           14.0        60.87\n",
      "1  Online            27           16.0        59.26\n"
     ]
    }
   ],
   "source": [
    "# ---- Return rate per region ----\n",
    "region_stats = duckdb.query(\"\"\"\n",
    "    SELECT region,\n",
    "           COUNT(*) AS total_orders,\n",
    "           SUM(is_returned) AS total_returns,\n",
    "           ROUND(100.0*SUM(is_returned)/COUNT(*),2) AS return_rate\n",
    "    FROM df\n",
    "    GROUP BY region\n",
    "    ORDER BY return_rate DESC\n",
    "\"\"\").to_df()\n",
    "\n",
    "print(region_stats)\n",
    "\n",
    "\n",
    "# ---- Return rate per channel ----\n",
    "channel_stats = duckdb.query(\"\"\"\n",
    "    SELECT channel,\n",
    "           COUNT(*) AS total_orders,\n",
    "           SUM(is_returned) AS total_returns,\n",
    "           ROUND(100.0*SUM(is_returned)/COUNT(*),2) AS return_rate\n",
    "    FROM df\n",
    "    GROUP BY channel\n",
    "    ORDER BY return_rate DESC\n",
    "\"\"\").to_df()\n",
    "\n",
    "print(channel_stats)\n"
   ]
  },
  {
   "cell_type": "code",
   "execution_count": 4,
   "id": "a9bc0201-a92e-40a4-8746-fd0baa9432fb",
   "metadata": {},
   "outputs": [],
   "source": [
    "# Save category return rates\n",
    "category_stats.to_csv(\"category_return_rate.csv\", index=False)\n",
    "\n",
    "# Save supplier return rates\n",
    "supplier_stats.to_csv(\"supplier_return_rate.csv\", index=False)\n",
    "\n",
    "# Save region return rates\n",
    "region_stats.to_csv(\"region_return_rate.csv\", index=False)\n",
    "\n",
    "# Save channel return rates\n",
    "channel_stats.to_csv(\"channel_return_rate.csv\", index=False)\n"
   ]
  },
  {
   "cell_type": "code",
   "execution_count": 5,
   "id": "ead3c756-2b0c-4106-8ce2-da894b6848fd",
   "metadata": {},
   "outputs": [],
   "source": [
    "from sklearn.model_selection import train_test_split\n",
    "from sklearn.linear_model import LogisticRegression\n",
    "from sklearn.preprocessing import OneHotEncoder\n",
    "from sklearn.compose import ColumnTransformer\n",
    "from sklearn.pipeline import Pipeline\n",
    "\n",
    "# Features and target\n",
    "X = df[[\"category\",\"supplier\",\"region\",\"channel\",\"price\"]]\n",
    "y = df[\"is_returned\"]\n",
    "\n",
    "# Preprocess (encode categoricals)\n",
    "categorical_cols = [\"category\",\"supplier\",\"region\",\"channel\"]\n",
    "numeric_cols = [\"price\"]\n",
    "\n",
    "preprocessor = ColumnTransformer(\n",
    "    transformers=[\n",
    "        (\"cat\", OneHotEncoder(handle_unknown=\"ignore\"), categorical_cols),\n",
    "        (\"num\", \"passthrough\", numeric_cols)\n",
    "    ]\n",
    ")\n",
    "\n",
    "# Build logistic regression pipeline\n",
    "model = Pipeline(steps=[(\"preprocessor\", preprocessor),\n",
    "                        (\"classifier\", LogisticRegression(max_iter=1000))])\n",
    "\n",
    "# Train/test split\n",
    "X_train, X_test, y_train, y_test = train_test_split(X, y, test_size=0.2, random_state=42)\n",
    "\n",
    "model.fit(X_train, y_train)\n",
    "\n",
    "# Predict probability of return\n",
    "df[\"return_probability\"] = model.predict_proba(X)[:,1]\n"
   ]
  },
  {
   "cell_type": "code",
   "execution_count": 6,
   "id": "f100a984-a979-44cf-bbd5-713b960ec535",
   "metadata": {},
   "outputs": [],
   "source": [
    "high_risk = df[df[\"return_probability\"] > 0.5][\n",
    "    [\"order_id\",\"product_id\",\"category\",\"supplier\",\"region\",\"channel\",\"price\",\"return_probability\"]\n",
    "]\n",
    "\n",
    "high_risk.to_csv(\"high_risk_products.csv\", index=False)\n"
   ]
  },
  {
   "cell_type": "code",
   "execution_count": null,
   "id": "760051fa-43cd-4d12-a970-e2afafe261b6",
   "metadata": {},
   "outputs": [],
   "source": []
  }
 ],
 "metadata": {
  "kernelspec": {
   "display_name": "Python 3 (ipykernel)",
   "language": "python",
   "name": "python3"
  },
  "language_info": {
   "codemirror_mode": {
    "name": "ipython",
    "version": 3
   },
   "file_extension": ".py",
   "mimetype": "text/x-python",
   "name": "python",
   "nbconvert_exporter": "python",
   "pygments_lexer": "ipython3",
   "version": "3.12.5"
  }
 },
 "nbformat": 4,
 "nbformat_minor": 5
}
